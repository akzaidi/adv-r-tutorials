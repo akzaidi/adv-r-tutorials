{
 "cells": [
  {
   "cell_type": "markdown",
   "metadata": {},
   "source": [
    "---\n",
    "title: \"Data Manipulation with dplyrXdf\"\n",
    "author: \"Microsoft Data Science Team\"\n",
    "date: \"June 6, 2016\"\n",
    "output:\n",
    "  ioslides_presentation:\n",
    "    logo: images/clark-logo.png\n",
    "    smaller: yes\n",
    "    widescreen: yes\n",
    "  html_document:\n",
    "    toc: yes\n",
    "    keep_md: true\n",
    "---\n",
    "\n",
    "\n",
    "# Introduction\n",
    "\n",
    "## Overview \n",
    "### Plan\n",
    "\n",
    "At the end of this session, you will have learned how to:\n",
    "\n",
    "* Take advantage of the verbs and syntax you learned from the `dplyr` module to manipulate `RxXdfData` data objects\n",
    "* Summarize your `RxXdfData` objects quickly and easily\n",
    "* Create custom functions and use them for mutations and summarizations\n",
    "* Understand where and when to use the `dplyrXdf` package and when to use functions from the `RevoScaleR` package\n",
    "\n",
    "## Why dplyrXdf?\n",
    "### Simplify Your Analysis Pipeline\n",
    "\n",
    "* The `RevoScaleR` package enables R users to manipulate data that is larger than memory\n",
    "* It introduces a new data type, called an `xdf` (short for eXternal Data Frame), which are highly efficient out-of-memory objects\n",
    "* However, many of the `RevoScaleR` functions have a dramatically different syntax from base R functions\n",
    "* The `dplyr` package has becme exceptionally popular, due to its appealing syntax, and since it's extensible, we have created a new package called `dplyrXdf` that exposes most of the `dplyr` functionality to `xdf` objects\n",
    "* Many data analysis pipelines require creating many intermediate datasets, which are only needed for their role in deriving a final dataset, but have no/little use on their own\n",
    "* The `dplyrXdf` abstracts this task of file management, so that you can focus on the data itself, rather than the management of intermediate files\n",
    "* Unlike `dplyr`, or other base R packages, `dplyrXdf` allows you to work with data residing _outside_ of memory, and therefore scales to datasets of arbitrary size\n",
    "\n",
    "\n",
    "## Requirements \n",
    "### What You'll Need\n",
    "\n",
    "* I expect that you have already covered the `dplyr` training\n",
    "* Understand the *XDF* data type and how to import data to *XDF*\n",
    "* If you're working on a different computer than your trianer: have (`devtools`)[github.com/hadley/devtools] (and if on a Windows machine, [Rtools](https://cran.r-project.org/bin/windows/Rtools/))\n",
    "\n",
    "## Installing dplyrXdf\n",
    "\n",
    "* The `dplyrXdf` package is not yet on CRAN\n",
    "* You have to download it from [github](https://github.com/RevolutionAnalytics/dplyrXdf/)\n",
    "  - if you're on a windows machine, install [Rtools](https://cran.r-project.org/bin/windows/Rtools/) as well\n",
    "  - the `devtools` package provides a very handy function, `install_github`, for installing R packages saved in github repositories\n",
    "\n",
    "## Create XDF from taxi data"
   ]
  },
  {
   "cell_type": "code",
   "execution_count": null,
   "metadata": {
    "collapsed": false
   },
   "outputs": [],
   "source": [
    "user.name <- \"alizaidi\"\n",
    "mydir <- sprintf('C:/Data/NYC_Taxi/%s/', user.name)\n",
    "dir.create(mydir)\n",
    "setwd(mydir)"
   ]
  },
  {
   "cell_type": "code",
   "execution_count": null,
   "metadata": {
    "collapsed": false
   },
   "outputs": [],
   "source": [
    "list.files(\"data/\")"
   ]
  },
  {
   "cell_type": "code",
   "execution_count": null,
   "metadata": {
    "attributes": {
     "": "",
     "classes": [],
     "id": ""
    },
    "collapsed": false
   },
   "outputs": [],
   "source": [
    "library(dplyrXdf)\n",
    "taxi_xdf <- RxXdfData(\"data/yellow_tripdata_2015.xdf\")"
   ]
  },
  {
   "cell_type": "markdown",
   "metadata": {},
   "source": [
    "# Simplified Pipelines for Data Summaries\n",
    "\n",
    "## Data Transforms \n",
    "### The rxDataStep Way\n",
    "\n",
    "* All the functionality exposed by the `dplyrXdf` package can also be completed\n",
    "by using the `rxDataStep` function in the `RevoScaleR` package included with your MRS installation\n",
    "* In fact, `dplyrXdf` consists almost entirely of wrapper functions that call on other `rx` functions\n",
    "* Let's compare the workflow for adding a new column to a dataset with `rxDataStep` vs `dplyrXdf`"
   ]
  },
  {
   "cell_type": "code",
   "execution_count": null,
   "metadata": {
    "collapsed": false
   },
   "outputs": [],
   "source": [
    "taxi_xdf %>% rxGetInfo(getVarInfo = TRUE)"
   ]
  },
  {
   "cell_type": "code",
   "execution_count": null,
   "metadata": {
    "collapsed": false
   },
   "outputs": [],
   "source": [
    "taxi_transform <- RxXdfData(\"data/nyc_taxi/taxi_transform.xdf\")"
   ]
  },
  {
   "cell_type": "code",
   "execution_count": null,
   "metadata": {
    "collapsed": false
   },
   "outputs": [],
   "source": [
    "system.time(taxi_transform <- rxDataStep(inData = taxi_xdf,\n",
    "           outFile = taxi_transform,\n",
    "           transforms = list(tip_pct = tip_amount/fare_amount),\n",
    "           overwrite = TRUE))"
   ]
  },
  {
   "cell_type": "markdown",
   "metadata": {},
   "source": [
    "## Data Transforms \n",
    "### The rxDataStep Way"
   ]
  },
  {
   "cell_type": "code",
   "execution_count": null,
   "metadata": {
    "collapsed": false
   },
   "outputs": [],
   "source": [
    "rxGetInfo(RxXdfData(taxi_transform), numRows = 2)\n"
   ]
  },
  {
   "cell_type": "markdown",
   "metadata": {},
   "source": [
    "## Data Transforms \n",
    "### The dplyrXdf Way\n",
    "\n",
    "* We could do the same operation with `dplyrXdf`, using the exact same syntax \n",
    "that we learned in the `dplyr` module and taking advantage of the `%>%` operator"
   ]
  },
  {
   "cell_type": "code",
   "execution_count": null,
   "metadata": {
    "collapsed": false
   },
   "outputs": [],
   "source": [
    "system.time(taxi_transform <- taxi_xdf %>% mutate(tip_pct = tip_amount/fare_amount))\n",
    "taxi_transform %>% rxGetInfo(numRows = 2)\n"
   ]
  },
  {
   "cell_type": "markdown",
   "metadata": {},
   "source": [
    "## Differences\n",
    "\n",
    "* The major difference between the `rxDataStep` operation and the `dplyrXdf` method, is that we do not specify an `outFile` argument anywhere in the `dplyrXdf` pipeline\n",
    "* In our case, we have assigned our `mutate` value to a new variable called `taxi_transform`\n",
    "* This creates a temporary file to save the intermediate `xdf`, and only saves the most recent output of a pipeline, where a pipeline is defined as all operations starting from a raw xdf file.\n",
    "* To copy an *xdf* from the temporary directory to permanent storage, use the `persist` verb"
   ]
  },
  {
   "cell_type": "code",
   "execution_count": null,
   "metadata": {
    "collapsed": false
   },
   "outputs": [],
   "source": [
    "taxi_transform@file"
   ]
  },
  {
   "cell_type": "code",
   "execution_count": null,
   "metadata": {
    "collapsed": false
   },
   "outputs": [],
   "source": [
    "persist(taxi_transform, outFile = \"data/taxiTransform.xdf\") -> taxi_transform"
   ]
  },
  {
   "cell_type": "markdown",
   "metadata": {},
   "source": [
    "## Using dplyrXdf for Aggregations \n",
    "### dplyrXdf Way\n",
    "\n",
    "* The `dplyrXdf` package really shines when used for data aggregations and summarizations\n",
    "* Whereas `rxSummary`, `rxCube`, and `rxCrossTabs` can compute a few summary statistics and do aggregations very quickly, they are not sufficiently general to be used in all places"
   ]
  },
  {
   "cell_type": "code",
   "execution_count": null,
   "metadata": {
    "collapsed": false
   },
   "outputs": [],
   "source": [
    "taxi_group <- taxi_transform %>%\n",
    "  group_by(pickup_nhood) %>% \n",
    "  summarize(ave_tip_pct = mean(tip_pct), sd_tip_pct = sd(tip_pct))\n",
    "taxi_group %>% head"
   ]
  },
  {
   "cell_type": "markdown",
   "metadata": {},
   "source": [
    "## Using dplyrXdf for Aggregations \n",
    "### rxCube Way\n",
    "\n",
    "* The above could have been done with `rxCube` as well, but would require additional considerations\n",
    "* We would have to make sure that the `pickup_nhood` column was a factor (can't mutate in place because of different data types)\n",
    "* `rxCube` can only provide summations and averages, so we cannot get standard deviations for instance.\n",
    "* Creating your own factors is never a pleasant experience. You may feel like everything is going right until:"
   ]
  },
  {
   "cell_type": "markdown",
   "metadata": {},
   "source": [
    "![faceplant](http://www.ohmagif.com/wp-content/uploads/2015/02/dude-front-flip-epic-face-plant.gif)"
   ]
  },
  {
   "cell_type": "code",
   "execution_count": null,
   "metadata": {
    "collapsed": true
   },
   "outputs": [],
   "source": [
    "rxFactors(inData = taxi_transform, \n",
    "          outFile = \"data/taxi_factor.xdf\", \n",
    "          factorInfo = c(\"dropoff_nhood\"), \n",
    "          overwrite = TRUE)\n",
    "head(rxCube(tip_pct ~ dropoff_nhood, \n",
    "            means = TRUE, \n",
    "            data = \"data/taxi_factor.xdf\"))\n",
    "file.remove(\"data/taxi_factor.xdf\")"
   ]
  },
  {
   "cell_type": "markdown",
   "metadata": {},
   "source": [
    "# Creating Functional Pipelines with dplyrXdf\n",
    "As we saw above, it's pretty easy to create a summarization or aggregation script. We can encapsulate our aggregation into it's own function.\n",
    "Suppose we wanted to calculate average tip as a function of dropoff and pickup neighborhoods. In the `dplyr` nonmenclature, this means grouping by dropoff and pickup neighborhoods, and summarizing/averaging tip percent."
   ]
  },
  {
   "cell_type": "code",
   "execution_count": null,
   "metadata": {
    "collapsed": false
   },
   "outputs": [],
   "source": [
    "rxGetInfo(taxi_transform, numRows = 5)"
   ]
  },
  {
   "cell_type": "code",
   "execution_count": null,
   "metadata": {
    "collapsed": true
   },
   "outputs": [],
   "source": [
    "load(\"data/manhattan.RData\")"
   ]
  },
  {
   "cell_type": "code",
   "execution_count": null,
   "metadata": {
    "collapsed": false
   },
   "outputs": [],
   "source": [
    "taxi_transform %>% \n",
    "    filter(pickup_nhood %in% manhattan_hoods,\n",
    "           dropoff_nhood %in% manhattan_hoods, \n",
    "           .rxArgs = list(transformObjects = list(manhattan_hoods = manhattan_hoods))) %>% \n",
    "    group_by(dropoff_nhood, pickup_nhood) %>% \n",
    "    summarize(ave_tip = mean(tip_pct), \n",
    "              ave_dist = mean(trip_distance)) %>% \n",
    "    filter(ave_dist > 3, ave_tip > 0.05) -> sum_df"
   ]
  },
  {
   "cell_type": "code",
   "execution_count": null,
   "metadata": {
    "collapsed": false
   },
   "outputs": [],
   "source": [
    "sum_df %>% rxGetInfo(getVarInfo = TRUE, numRows = 5)"
   ]
  },
  {
   "cell_type": "markdown",
   "metadata": {},
   "source": [
    "Alternatively, we can encapsulate this script into a function, so that we can easily call it in a functional pipeline."
   ]
  },
  {
   "cell_type": "code",
   "execution_count": null,
   "metadata": {
    "collapsed": false
   },
   "outputs": [],
   "source": [
    "taxi_hood_sum <- function(taxi_data = taxi_df, ...) {\n",
    "  \n",
    "  taxi_data %>% \n",
    "    filter(pickup_nhood %in% manhattan_hoods,\n",
    "           dropoff_nhood %in% manhattan_hoods, ...) %>% \n",
    "    group_by(dropoff_nhood, pickup_nhood) %>% \n",
    "    summarize(ave_tip = mean(tip_pct), \n",
    "              ave_dist = mean(trip_distance)) %>% \n",
    "    filter(ave_dist > 3, ave_tip > 0.05) -> sum_df\n",
    "  \n",
    "  return(sum_df)\n",
    "  \n",
    "}\n",
    "\n"
   ]
  },
  {
   "cell_type": "markdown",
   "metadata": {},
   "source": [
    "The resulting summary object isn't very large (about 408 rows in this case), so it shouldn't cause any memory overhead issues if we covert it now to a `data.frame`. We can plot our results using our favorite plotting library. "
   ]
  },
  {
   "cell_type": "code",
   "execution_count": null,
   "metadata": {
    "collapsed": true
   },
   "outputs": [],
   "source": [
    "tile_plot_hood <- function(df = taxi_hood_sum()) {\n",
    "  \n",
    "  library(ggplot2)\n",
    "  \n",
    "  ggplot(data = df, aes(x = pickup_nhood, y = dropoff_nhood)) + \n",
    "    geom_tile(aes(fill = ave_tip), colour = \"white\") + \n",
    "    theme_bw() + \n",
    "    theme(axis.text.x = element_text(angle = 45, hjust = 1),\n",
    "          legend.position = 'bottom') + \n",
    "    scale_fill_gradient(low = \"white\", high = \"steelblue\") -> gplot\n",
    "  \n",
    "  return(gplot)\n",
    "}"
   ]
  },
  {
   "cell_type": "code",
   "execution_count": null,
   "metadata": {
    "collapsed": false
   },
   "outputs": [],
   "source": [
    "tile_plot_hood(as.data.frame(sum_df))"
   ]
  }
 ],
 "metadata": {
  "kernelspec": {
   "display_name": "R",
   "language": "R",
   "name": "ir"
  },
  "language_info": {
   "codemirror_mode": "r",
   "file_extension": ".r",
   "mimetype": "text/x-r-source",
   "name": "R",
   "pygments_lexer": "r",
   "version": "3.2.2"
  }
 },
 "nbformat": 4,
 "nbformat_minor": 0
}
